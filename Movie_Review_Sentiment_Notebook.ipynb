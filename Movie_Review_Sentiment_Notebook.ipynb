{
 "cells": [
  {
   "cell_type": "markdown",
   "id": "c7bf35d1",
   "metadata": {},
   "source": [
    "**Background Information for Data Set**<br>\n",
    "The labeled data set consists of 50,000 IMDB movie reviews, specially selected for sentiment analysis. The sentiment of reviews is binary, meaning the IMDB rating < 5 results in a sentiment score of 0, and rating >=7 have a sentiment score of 1. No individual movie has more than 30 reviews. The 25,000 review labeled training set does not include any of the same movies as the 25,000 review test set. In addition, there are another 50,000 IMDB reviews provided without any rating labels.\n",
    "\n",
    "The data set was obtained from Kaggle. Below are teh field definitions provided for the data set.\n",
    " - id - Unique ID of each review\n",
    " - sentiment - Sentiment of the review; 1 for positive reviews and 0 for negative reviews\n",
    " - review - Text of the review"
   ]
  },
  {
   "cell_type": "markdown",
   "id": "a61bfc30",
   "metadata": {},
   "source": [
    "## Part 1: Get the Stemmed Data Obtained in Week 3"
   ]
  },
  {
   "cell_type": "code",
   "execution_count": 85,
   "id": "06216bfa",
   "metadata": {},
   "outputs": [],
   "source": [
    "import pandas as pd\n",
    "import numpy as np\n",
    "\n",
    "import nltk\n",
    "from nltk.corpus import stopwords\n",
    "from nltk.tokenize import word_tokenize\n",
    "from nltk.stem.porter import PorterStemmer\n",
    "\n",
    "import unicodedata\n",
    "import sys\n",
    "import re\n",
    "\n",
    "from sklearn.feature_extraction.text import CountVectorizer, TfidfVectorizer\n",
    "from sklearn.model_selection import train_test_split\n",
    "from sklearn.linear_model import LogisticRegression\n",
    "from sklearn.ensemble import RandomForestClassifier\n",
    "from sklearn.metrics import accuracy_score, confusion_matrix, precision_score, recall_score, f1_score, roc_curve, roc_auc_score\n",
    "\n",
    "import seaborn as sns\n",
    "import matplotlib.pyplot as plt"
   ]
  },
  {
   "cell_type": "markdown",
   "id": "8c2936b8",
   "metadata": {},
   "source": [
    "### Step 1: Import movie data and ensure the data loads properly."
   ]
  },
  {
   "cell_type": "code",
   "execution_count": 86,
   "id": "bf687500",
   "metadata": {},
   "outputs": [],
   "source": [
    "# Load the training data set containing 25k reviews.\n",
    "\n",
    "FILE = 'labeledTrainData.tsv'\n",
    "\n",
    "review_df = pd.read_csv(FILE, sep='\\t')"
   ]
  },
  {
   "cell_type": "code",
   "execution_count": 87,
   "id": "b4baee14",
   "metadata": {},
   "outputs": [
    {
     "data": {
      "text/html": [
       "<div>\n",
       "<style scoped>\n",
       "    .dataframe tbody tr th:only-of-type {\n",
       "        vertical-align: middle;\n",
       "    }\n",
       "\n",
       "    .dataframe tbody tr th {\n",
       "        vertical-align: top;\n",
       "    }\n",
       "\n",
       "    .dataframe thead th {\n",
       "        text-align: right;\n",
       "    }\n",
       "</style>\n",
       "<table border=\"1\" class=\"dataframe\">\n",
       "  <thead>\n",
       "    <tr style=\"text-align: right;\">\n",
       "      <th></th>\n",
       "      <th>id</th>\n",
       "      <th>sentiment</th>\n",
       "      <th>review</th>\n",
       "    </tr>\n",
       "  </thead>\n",
       "  <tbody>\n",
       "    <tr>\n",
       "      <th>0</th>\n",
       "      <td>5814_8</td>\n",
       "      <td>1</td>\n",
       "      <td>With all this stuff going down at the moment w...</td>\n",
       "    </tr>\n",
       "    <tr>\n",
       "      <th>1</th>\n",
       "      <td>2381_9</td>\n",
       "      <td>1</td>\n",
       "      <td>\\The Classic War of the Worlds\\\" by Timothy Hi...</td>\n",
       "    </tr>\n",
       "    <tr>\n",
       "      <th>2</th>\n",
       "      <td>7759_3</td>\n",
       "      <td>0</td>\n",
       "      <td>The film starts with a manager (Nicholas Bell)...</td>\n",
       "    </tr>\n",
       "    <tr>\n",
       "      <th>3</th>\n",
       "      <td>3630_4</td>\n",
       "      <td>0</td>\n",
       "      <td>It must be assumed that those who praised this...</td>\n",
       "    </tr>\n",
       "    <tr>\n",
       "      <th>4</th>\n",
       "      <td>9495_8</td>\n",
       "      <td>1</td>\n",
       "      <td>Superbly trashy and wondrously unpretentious 8...</td>\n",
       "    </tr>\n",
       "  </tbody>\n",
       "</table>\n",
       "</div>"
      ],
      "text/plain": [
       "       id  sentiment                                             review\n",
       "0  5814_8          1  With all this stuff going down at the moment w...\n",
       "1  2381_9          1  \\The Classic War of the Worlds\\\" by Timothy Hi...\n",
       "2  7759_3          0  The film starts with a manager (Nicholas Bell)...\n",
       "3  3630_4          0  It must be assumed that those who praised this...\n",
       "4  9495_8          1  Superbly trashy and wondrously unpretentious 8..."
      ]
     },
     "execution_count": 87,
     "metadata": {},
     "output_type": "execute_result"
    }
   ],
   "source": [
    "review_df.head() # Check to ensure the file loaded properly."
   ]
  },
  {
   "cell_type": "code",
   "execution_count": 88,
   "id": "84ebf122",
   "metadata": {},
   "outputs": [
    {
     "data": {
      "text/plain": [
       "sentiment\n",
       "0    12500\n",
       "1    12500\n",
       "Name: id, dtype: int64"
      ]
     },
     "execution_count": 88,
     "metadata": {},
     "output_type": "execute_result"
    }
   ],
   "source": [
    "# Grouping and coutning of sentiment scores.\n",
    "\n",
    "review_df.groupby('sentiment')['id'].count()"
   ]
  },
  {
   "cell_type": "markdown",
   "id": "5d395347",
   "metadata": {},
   "source": [
    "### Processing 1 - Convert all text to lowercase letters."
   ]
  },
  {
   "cell_type": "code",
   "execution_count": 89,
   "id": "0096d533",
   "metadata": {},
   "outputs": [],
   "source": [
    "# Convert text to lower case. \n",
    "\n",
    "review_df['review'] = review_df['review'].apply(lambda x: str.lower(x))"
   ]
  },
  {
   "cell_type": "markdown",
   "id": "37a2a48e",
   "metadata": {},
   "source": [
    "### Processing 2 - Remove punctuation, numbers, and special characters from the text."
   ]
  },
  {
   "cell_type": "code",
   "execution_count": 90,
   "id": "5b55c686",
   "metadata": {},
   "outputs": [],
   "source": [
    "# Use Regex to eliminate all non-characters and non-numerics.\n",
    "\n",
    "# Create a dictionary of punctuation using unicode\n",
    "punctuation = dict.fromkeys(i for i in range(sys.maxunicode) if unicodedata.category(chr(i)).startswith('P'))\n",
    "\n",
    "# Remove punctuation from our 'review_clean' field\n",
    "review_df['review'] = [string.translate(punctuation) for string in review_df['review']]\n",
    "\n",
    "# Remove page breaks from words \"<br >\"\n",
    "review_df['review'] = review_df['review'].apply(lambda t: re.sub('<br >','',t))\n",
    "\n",
    "# Remove numbers from 'review' column\n",
    "review_df['review'] = review_df['review'].apply(lambda x: re.sub(r\"\\d+\", \"\", x))"
   ]
  },
  {
   "cell_type": "code",
   "execution_count": 91,
   "id": "57fbaee5",
   "metadata": {},
   "outputs": [
    {
     "data": {
      "text/html": [
       "<div>\n",
       "<style scoped>\n",
       "    .dataframe tbody tr th:only-of-type {\n",
       "        vertical-align: middle;\n",
       "    }\n",
       "\n",
       "    .dataframe tbody tr th {\n",
       "        vertical-align: top;\n",
       "    }\n",
       "\n",
       "    .dataframe thead th {\n",
       "        text-align: right;\n",
       "    }\n",
       "</style>\n",
       "<table border=\"1\" class=\"dataframe\">\n",
       "  <thead>\n",
       "    <tr style=\"text-align: right;\">\n",
       "      <th></th>\n",
       "      <th>id</th>\n",
       "      <th>sentiment</th>\n",
       "      <th>review</th>\n",
       "    </tr>\n",
       "  </thead>\n",
       "  <tbody>\n",
       "    <tr>\n",
       "      <th>0</th>\n",
       "      <td>5814_8</td>\n",
       "      <td>1</td>\n",
       "      <td>with all this stuff going down at the moment w...</td>\n",
       "    </tr>\n",
       "    <tr>\n",
       "      <th>1</th>\n",
       "      <td>2381_9</td>\n",
       "      <td>1</td>\n",
       "      <td>the classic war of the worlds by timothy hines...</td>\n",
       "    </tr>\n",
       "    <tr>\n",
       "      <th>2</th>\n",
       "      <td>7759_3</td>\n",
       "      <td>0</td>\n",
       "      <td>the film starts with a manager nicholas bell g...</td>\n",
       "    </tr>\n",
       "    <tr>\n",
       "      <th>3</th>\n",
       "      <td>3630_4</td>\n",
       "      <td>0</td>\n",
       "      <td>it must be assumed that those who praised this...</td>\n",
       "    </tr>\n",
       "    <tr>\n",
       "      <th>4</th>\n",
       "      <td>9495_8</td>\n",
       "      <td>1</td>\n",
       "      <td>superbly trashy and wondrously unpretentious s...</td>\n",
       "    </tr>\n",
       "    <tr>\n",
       "      <th>5</th>\n",
       "      <td>8196_8</td>\n",
       "      <td>1</td>\n",
       "      <td>i dont know why people think this is such a ba...</td>\n",
       "    </tr>\n",
       "    <tr>\n",
       "      <th>6</th>\n",
       "      <td>7166_2</td>\n",
       "      <td>0</td>\n",
       "      <td>this movie could have been very good but comes...</td>\n",
       "    </tr>\n",
       "    <tr>\n",
       "      <th>7</th>\n",
       "      <td>10633_1</td>\n",
       "      <td>0</td>\n",
       "      <td>i watched this video at a friends house im gla...</td>\n",
       "    </tr>\n",
       "    <tr>\n",
       "      <th>8</th>\n",
       "      <td>319_1</td>\n",
       "      <td>0</td>\n",
       "      <td>a friend of mine bought this film for £ and ev...</td>\n",
       "    </tr>\n",
       "    <tr>\n",
       "      <th>9</th>\n",
       "      <td>8713_10</td>\n",
       "      <td>1</td>\n",
       "      <td>this movie is full of references like mad max ...</td>\n",
       "    </tr>\n",
       "  </tbody>\n",
       "</table>\n",
       "</div>"
      ],
      "text/plain": [
       "        id  sentiment                                             review\n",
       "0   5814_8          1  with all this stuff going down at the moment w...\n",
       "1   2381_9          1  the classic war of the worlds by timothy hines...\n",
       "2   7759_3          0  the film starts with a manager nicholas bell g...\n",
       "3   3630_4          0  it must be assumed that those who praised this...\n",
       "4   9495_8          1  superbly trashy and wondrously unpretentious s...\n",
       "5   8196_8          1  i dont know why people think this is such a ba...\n",
       "6   7166_2          0  this movie could have been very good but comes...\n",
       "7  10633_1          0  i watched this video at a friends house im gla...\n",
       "8    319_1          0  a friend of mine bought this film for £ and ev...\n",
       "9  8713_10          1  this movie is full of references like mad max ..."
      ]
     },
     "execution_count": 91,
     "metadata": {},
     "output_type": "execute_result"
    }
   ],
   "source": [
    "review_df.head(10)"
   ]
  },
  {
   "cell_type": "markdown",
   "id": "8f479d4d",
   "metadata": {},
   "source": [
    "### Processing 3 - Remove Stop Words"
   ]
  },
  {
   "cell_type": "code",
   "execution_count": 92,
   "id": "f92ae3c1",
   "metadata": {},
   "outputs": [],
   "source": [
    "# Tokenize word groups in 'review' using NLTK.\n",
    "\n",
    "review_df['review_wordtokens'] = [word_tokenize(w) for w in review_df['review']]"
   ]
  },
  {
   "cell_type": "code",
   "execution_count": 93,
   "id": "9aa955bf",
   "metadata": {},
   "outputs": [
    {
     "name": "stderr",
     "output_type": "stream",
     "text": [
      "[nltk_data] Downloading package stopwords to\n",
      "[nltk_data]     C:\\Users\\dfgpr\\AppData\\Roaming\\nltk_data...\n",
      "[nltk_data]   Package stopwords is already up-to-date!\n"
     ]
    },
    {
     "data": {
      "text/plain": [
       "True"
      ]
     },
     "execution_count": 93,
     "metadata": {},
     "output_type": "execute_result"
    }
   ],
   "source": [
    "# Download NLTK's library of stop words\n",
    "nltk.download('stopwords')"
   ]
  },
  {
   "cell_type": "code",
   "execution_count": 94,
   "id": "e739c777",
   "metadata": {},
   "outputs": [],
   "source": [
    "# Import stopwords from NLTK\n",
    "stop_words = stopwords.words('english')\n",
    "\n",
    "# Remove stop words. Need to iterate over words in 'review_wordtokens' using apply as it is a list.\n",
    "review_df['review_wordtokens'] = review_df['review_wordtokens'].apply(lambda x: \n",
    "                                                       [word for word in x if word not in stop_words])"
   ]
  },
  {
   "cell_type": "code",
   "execution_count": 95,
   "id": "e9961f6e",
   "metadata": {},
   "outputs": [
    {
     "data": {
      "text/plain": [
       "0    [stuff, going, moment, mj, ive, started, liste...\n",
       "1    [classic, war, worlds, timothy, hines, enterta...\n",
       "2    [film, starts, manager, nicholas, bell, giving...\n",
       "3    [must, assumed, praised, film, greatest, filme...\n",
       "4    [superbly, trashy, wondrously, unpretentious, ...\n",
       "5    [dont, know, people, think, bad, movie, got, p...\n",
       "6    [movie, could, good, comes, way, short, cheesy...\n",
       "7    [watched, video, friends, house, im, glad, was...\n",
       "8    [friend, mine, bought, film, £, even, grossly,...\n",
       "9    [movie, full, references, like, mad, max, ii, ...\n",
       "Name: review_wordtokens, dtype: object"
      ]
     },
     "execution_count": 95,
     "metadata": {},
     "output_type": "execute_result"
    }
   ],
   "source": [
    "review_df['review_wordtokens'].head(10)"
   ]
  },
  {
   "cell_type": "markdown",
   "id": "9b370ace",
   "metadata": {},
   "source": [
    "### Processing 4 - Apply NLTK’s PorterStemmer"
   ]
  },
  {
   "cell_type": "code",
   "execution_count": 96,
   "id": "80122183",
   "metadata": {},
   "outputs": [],
   "source": [
    "# Create stemmer\n",
    "porter = PorterStemmer()\n",
    "\n",
    "# Iterate over 'review_wordtokens' and apply Stemming\n",
    "\n",
    "review_df['review_wordtokens'] = review_df['review_wordtokens'].apply(lambda x: [porter.stem(word) for word in x])"
   ]
  },
  {
   "cell_type": "markdown",
   "id": "13c84848",
   "metadata": {},
   "source": [
    "### Processing 5 - Rejoin List of Elements "
   ]
  },
  {
   "cell_type": "code",
   "execution_count": 97,
   "id": "b7a6cd53",
   "metadata": {},
   "outputs": [],
   "source": [
    "# Use sklearn to vectorize model. Since the words are separated in an individual list, the first step requires\n",
    "# us to rejoin the individual words into a grouped cell.\n",
    "\n",
    "# Join list elements for model\n",
    "review_df['review_clean'] = review_df['review_wordtokens'].apply(lambda x: ' '.join(x))\n",
    "\n",
    "review_df1 = review_df.drop(['review', 'review_wordtokens'], axis=1)"
   ]
  },
  {
   "cell_type": "code",
   "execution_count": 98,
   "id": "1c979cbe",
   "metadata": {},
   "outputs": [
    {
     "name": "stdout",
     "output_type": "stream",
     "text": [
      "The number of records in our original dataframe: (25000, 3)\n"
     ]
    },
    {
     "data": {
      "text/html": [
       "<div>\n",
       "<style scoped>\n",
       "    .dataframe tbody tr th:only-of-type {\n",
       "        vertical-align: middle;\n",
       "    }\n",
       "\n",
       "    .dataframe tbody tr th {\n",
       "        vertical-align: top;\n",
       "    }\n",
       "\n",
       "    .dataframe thead th {\n",
       "        text-align: right;\n",
       "    }\n",
       "</style>\n",
       "<table border=\"1\" class=\"dataframe\">\n",
       "  <thead>\n",
       "    <tr style=\"text-align: right;\">\n",
       "      <th></th>\n",
       "      <th>id</th>\n",
       "      <th>sentiment</th>\n",
       "      <th>review_clean</th>\n",
       "    </tr>\n",
       "  </thead>\n",
       "  <tbody>\n",
       "    <tr>\n",
       "      <th>0</th>\n",
       "      <td>5814_8</td>\n",
       "      <td>1</td>\n",
       "      <td>stuff go moment mj ive start listen music watc...</td>\n",
       "    </tr>\n",
       "    <tr>\n",
       "      <th>1</th>\n",
       "      <td>2381_9</td>\n",
       "      <td>1</td>\n",
       "      <td>classic war world timothi hine entertain film ...</td>\n",
       "    </tr>\n",
       "    <tr>\n",
       "      <th>2</th>\n",
       "      <td>7759_3</td>\n",
       "      <td>0</td>\n",
       "      <td>film start manag nichola bell give welcom inve...</td>\n",
       "    </tr>\n",
       "    <tr>\n",
       "      <th>3</th>\n",
       "      <td>3630_4</td>\n",
       "      <td>0</td>\n",
       "      <td>must assum prais film greatest film opera ever...</td>\n",
       "    </tr>\n",
       "    <tr>\n",
       "      <th>4</th>\n",
       "      <td>9495_8</td>\n",
       "      <td>1</td>\n",
       "      <td>superbl trashi wondrous unpretenti exploit hoo...</td>\n",
       "    </tr>\n",
       "  </tbody>\n",
       "</table>\n",
       "</div>"
      ],
      "text/plain": [
       "       id  sentiment                                       review_clean\n",
       "0  5814_8          1  stuff go moment mj ive start listen music watc...\n",
       "1  2381_9          1  classic war world timothi hine entertain film ...\n",
       "2  7759_3          0  film start manag nichola bell give welcom inve...\n",
       "3  3630_4          0  must assum prais film greatest film opera ever...\n",
       "4  9495_8          1  superbl trashi wondrous unpretenti exploit hoo..."
      ]
     },
     "execution_count": 98,
     "metadata": {},
     "output_type": "execute_result"
    }
   ],
   "source": [
    "# Validate shape adn structure of dataframe.\n",
    "\n",
    "print('The number of records in our original dataframe:',review_df1.shape)\n",
    "review_df1.head()"
   ]
  },
  {
   "cell_type": "markdown",
   "id": "0aa7b5a4",
   "metadata": {},
   "source": [
    "## Step 2: Split Data into Training and Test Sets"
   ]
  },
  {
   "cell_type": "code",
   "execution_count": 99,
   "id": "b26f8ad2",
   "metadata": {},
   "outputs": [],
   "source": [
    "# Split review_df1 into train and test sets\n",
    "target = review_df1['sentiment']\n",
    "features = review_df1['review_clean']\n",
    "\n",
    "features_train, features_test, target_train, target_test = train_test_split(features, target)  # Default test size 25%."
   ]
  },
  {
   "cell_type": "markdown",
   "id": "ee0bbb32",
   "metadata": {},
   "source": [
    "## Step 3: Fit and apply the tf-idf vectorization to the training set."
   ]
  },
  {
   "cell_type": "code",
   "execution_count": 100,
   "id": "2fdf6198",
   "metadata": {},
   "outputs": [],
   "source": [
    "# Create output of td-idf scores for the movie reviews.\n",
    "\n",
    "tfidf_vectorizer = TfidfVectorizer()\n",
    "features_train_tfidf = tfidf_vectorizer.fit_transform(features_train)"
   ]
  },
  {
   "cell_type": "markdown",
   "id": "408ada4b",
   "metadata": {},
   "source": [
    "## Step 4: Train Logistic Regression Model on Train Set"
   ]
  },
  {
   "cell_type": "code",
   "execution_count": 101,
   "id": "849bf51a",
   "metadata": {},
   "outputs": [],
   "source": [
    "logistic_regression = LogisticRegression()\n",
    "lr_model = logistic_regression.fit(features_train_tfidf, target_train)"
   ]
  },
  {
   "cell_type": "markdown",
   "id": "316be5e2",
   "metadata": {},
   "source": [
    "## Step 5: Find the model accuracy on test set."
   ]
  },
  {
   "cell_type": "code",
   "execution_count": 102,
   "id": "230c109e",
   "metadata": {},
   "outputs": [],
   "source": [
    "# Apply vectorization to test set.\n",
    "features_test_tfidf = tfidf_vectorizer.transform(features_test)\n",
    "\n",
    "# Develop predictions in the test set.\n",
    "target_test_pred = lr_model.predict(features_test_tfidf)"
   ]
  },
  {
   "cell_type": "code",
   "execution_count": 103,
   "id": "d6d18c27",
   "metadata": {},
   "outputs": [
    {
     "name": "stdout",
     "output_type": "stream",
     "text": [
      "Logistic Regression Accuracy Score: 0.88112\n"
     ]
    }
   ],
   "source": [
    "# Compute accuracy score\n",
    "acc_score = accuracy_score(target_test_pred, target_test)\n",
    "\n",
    "print(f'Logistic Regression Accuracy Score: {acc_score}')"
   ]
  },
  {
   "cell_type": "markdown",
   "id": "11ee9960",
   "metadata": {},
   "source": [
    "## Step 6: Create a confusion matrix for the test set predictions."
   ]
  },
  {
   "cell_type": "code",
   "execution_count": 104,
   "id": "a878ab95",
   "metadata": {},
   "outputs": [
    {
     "data": {
      "image/png": "[encoded data removed]",
      "text/plain": [
       "<Figure size 432x288 with 1 Axes>"
      ]
     },
     "metadata": {
      "needs_background": "light"
     },
     "output_type": "display_data"
    }
   ],
   "source": [
    "# Calculate confusion matrix.\n",
    "\n",
    "matrix = confusion_matrix(target_test, target_test_pred)\n",
    "\n",
    "# Print dataframe with easier to read titles.\n",
    "dataframe = pd.DataFrame(matrix, index=['True: 0', 'True: 1'], columns=['Pred: 0', 'Pred: 1'])\n",
    "\n",
    "# Create heatmap\n",
    "sns.heatmap(dataframe, annot=True, cbar=None, cmap='Blues', fmt='d');\n",
    "plt.title('Confusion Matrix');\n",
    "plt.tight_layout();\n",
    "plt.ylabel('True Class');\n",
    "plt.xlabel('Predicted Class');"
   ]
  },
  {
   "cell_type": "markdown",
   "id": "f9a6f145",
   "metadata": {},
   "source": [
    "## Step 7: Get the precision, recall, and F1-score for the test set predictions."
   ]
  },
  {
   "cell_type": "code",
   "execution_count": 105,
   "id": "b8614019",
   "metadata": {},
   "outputs": [
    {
     "name": "stdout",
     "output_type": "stream",
     "text": [
      "Precision Score: 0.8732\n",
      "Recall Score: 0.8930\n",
      "F1 Score: 0.8830\n"
     ]
    }
   ],
   "source": [
    "# Calculate and print metrics.\n",
    "\n",
    "print(f'Precision Score: {precision_score(target_test, target_test_pred):.4f}')\n",
    "print(f'Recall Score: {recall_score(target_test, target_test_pred):.4f}')\n",
    "print(f'F1 Score: {f1_score(target_test, target_test_pred):.4f}')"
   ]
  },
  {
   "cell_type": "markdown",
   "id": "a457618d",
   "metadata": {},
   "source": [
    "## Step 8: Create a ROC curve for the test set."
   ]
  },
  {
   "cell_type": "code",
   "execution_count": 106,
   "id": "9f87f63f",
   "metadata": {},
   "outputs": [],
   "source": [
    "target_test_prob = lr_model.predict_proba(features_test_tfidf)[:,1]\n",
    "false_positive_rate, true_positive_rate, threshold = roc_curve(target_test, target_test_prob)"
   ]
  },
  {
   "cell_type": "code",
   "execution_count": 107,
   "id": "becc2ac7",
   "metadata": {},
   "outputs": [
    {
     "data": {
      "image/png": "[encoded data removed]",
      "text/plain": [
       "<Figure size 432x288 with 1 Axes>"
      ]
     },
     "metadata": {
      "needs_background": "light"
     },
     "output_type": "display_data"
    }
   ],
   "source": [
    "plt.title('ROC Curve');\n",
    "plt.plot(false_positive_rate, true_positive_rate);\n",
    "plt.plot([0,1], ls='--');\n",
    "plt.ylabel('True Positive Rate');\n",
    "plt.xlabel('False Positive Rate');"
   ]
  },
  {
   "cell_type": "markdown",
   "id": "e868e00c",
   "metadata": {},
   "source": [
    "## Step 9: Pick another classification model you learned about this week and repeat steps (5) – (9)."
   ]
  },
  {
   "cell_type": "code",
   "execution_count": 108,
   "id": "d56c4fe9",
   "metadata": {},
   "outputs": [],
   "source": [
    "# Build a Random Forest model using earlier data sets. Use vectorized training set.\n",
    "\n",
    "randomforest = RandomForestClassifier()\n",
    "rf_model = randomforest.fit(features_train_tfidf, target_train)\n",
    "\n",
    "# Predict values for test data\n",
    "target_test_pred_rf = rf_model.predict(features_test_tfidf)"
   ]
  },
  {
   "cell_type": "code",
   "execution_count": 109,
   "id": "4928cdd9",
   "metadata": {},
   "outputs": [
    {
     "name": "stdout",
     "output_type": "stream",
     "text": [
      "Random Forest Accuracy Score: 0.84176\n"
     ]
    }
   ],
   "source": [
    "# Compute accuracy score\n",
    "acc_score = accuracy_score(target_test_pred_rf, target_test)\n",
    "\n",
    "print(f'Random Forest Accuracy Score: {acc_score}')"
   ]
  },
  {
   "cell_type": "code",
   "execution_count": 110,
   "id": "88180ce1",
   "metadata": {},
   "outputs": [
    {
     "data": {
      "image/png": "[encoded data removed]",
      "text/plain": [
       "<Figure size 432x288 with 1 Axes>"
      ]
     },
     "metadata": {
      "needs_background": "light"
     },
     "output_type": "display_data"
    }
   ],
   "source": [
    "# Calculate confusion matrix.\n",
    "\n",
    "matrix = confusion_matrix(target_test, target_test_pred_rf)\n",
    "\n",
    "# Print dataframe with easier to read titles.\n",
    "dataframe = pd.DataFrame(matrix, index=['True: 0', 'True: 1'], columns=['Pred: 0', 'Pred: 1'])\n",
    "\n",
    "# Create heatmap\n",
    "sns.heatmap(dataframe, annot=True, cbar=None, cmap='Blues', fmt='d');\n",
    "plt.title('Confusion Matrix');\n",
    "plt.tight_layout();\n",
    "plt.ylabel('True Class');\n",
    "plt.xlabel('Predicted Class');"
   ]
  },
  {
   "cell_type": "code",
   "execution_count": 111,
   "id": "a2ed1a41",
   "metadata": {},
   "outputs": [
    {
     "name": "stdout",
     "output_type": "stream",
     "text": [
      "Precision Score: 0.8567\n",
      "Recall Score: 0.8226\n",
      "F1 Score: 0.8393\n"
     ]
    }
   ],
   "source": [
    "# Calculate and print metrics.\n",
    "\n",
    "print(f'Precision Score: {precision_score(target_test, target_test_pred_rf):.4f}')\n",
    "print(f'Recall Score: {recall_score(target_test, target_test_pred_rf):.4f}')\n",
    "print(f'F1 Score: {f1_score(target_test, target_test_pred_rf):.4f}')"
   ]
  },
  {
   "cell_type": "code",
   "execution_count": 112,
   "id": "0b94f230",
   "metadata": {},
   "outputs": [
    {
     "data": {
      "image/png": "[encoded data removed]",
      "text/plain": [
       "<Figure size 432x288 with 1 Axes>"
      ]
     },
     "metadata": {
      "needs_background": "light"
     },
     "output_type": "display_data"
    }
   ],
   "source": [
    "# Create a ROC Curve\n",
    "\n",
    "# Calculate values for ROC\n",
    "target_test_prob_rf = rf_model.predict_proba(features_test_tfidf)[:,1]\n",
    "false_positive_rate, true_positive_rate, threshold = roc_curve(target_test, target_test_prob_rf)\n",
    "\n",
    "# Print ROC Graph\n",
    "plt.title('ROC Curve');\n",
    "plt.plot(false_positive_rate, true_positive_rate);\n",
    "plt.plot([0,1], ls='--');\n",
    "plt.ylabel('True Positive Rate');\n",
    "plt.xlabel('False Positive Rate');"
   ]
  },
  {
   "cell_type": "code",
   "execution_count": null,
   "id": "51974602",
   "metadata": {},
   "outputs": [],
   "source": []
  }
 ],
 "metadata": {
  "kernelspec": {
   "display_name": "Python 3 (ipykernel)",
   "language": "python",
   "name": "python3"
  },
  "language_info": {
   "codemirror_mode": {
    "name": "ipython",
    "version": 3
   },
   "file_extension": ".py",
   "mimetype": "text/x-python",
   "name": "python",
   "nbconvert_exporter": "python",
   "pygments_lexer": "ipython3",
   "version": "3.9.7"
  }
 },
 "nbformat": 4,
 "nbformat_minor": 5
}
